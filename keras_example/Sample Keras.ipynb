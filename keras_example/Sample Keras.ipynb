{
 "cells": [
  {
   "cell_type": "code",
   "execution_count": 2,
   "metadata": {
    "collapsed": false
   },
   "outputs": [],
   "source": [
    "import keras"
   ]
  },
  {
   "cell_type": "code",
   "execution_count": 3,
   "metadata": {
    "collapsed": false
   },
   "outputs": [],
   "source": [
    "from keras.datasets import cifar10\n",
    "(x_train, y_train), (x_test, y_test) = cifar10.load_data()"
   ]
  },
  {
   "cell_type": "code",
   "execution_count": 4,
   "metadata": {
    "collapsed": false
   },
   "outputs": [],
   "source": [
    "y_train = keras.utils.to_categorical(y_train, 10)\n",
    "x_train = x_train.astype('float32')\n",
    "x_train /= 255"
   ]
  },
  {
   "cell_type": "code",
   "execution_count": 5,
   "metadata": {
    "collapsed": false
   },
   "outputs": [],
   "source": [
    "from keras.models import Sequential\n",
    "\n",
    "model = Sequential()"
   ]
  },
  {
   "cell_type": "code",
   "execution_count": 6,
   "metadata": {
    "collapsed": false
   },
   "outputs": [],
   "source": [
    "from keras.layers import Dense, Dropout, Activation, Flatten\n",
    "from keras.layers import Conv2D, MaxPooling2D\n",
    "\n",
    "model.add(Conv2D(32, (3, 3), padding='same',\n",
    "                 input_shape=x_train.shape[1:]))\n",
    "model.add(Activation('relu'))\n",
    "model.add(Conv2D(32, (3, 3)))\n",
    "model.add(MaxPooling2D(pool_size=(2, 2)))\n",
    "model.add(Dropout(0.25))\n",
    "\n",
    "model.add(Conv2D(64, (3, 3), padding='same'))\n",
    "model.add(Activation('relu'))\n",
    "model.add(Conv2D(64, (3, 3)))\n",
    "model.add(Activation('relu'))\n",
    "model.add(MaxPooling2D(pool_size=(2, 2)))\n",
    "model.add(Dropout(0.25))\n",
    "\n",
    "model.add(Flatten())\n",
    "model.add(Dense(512))\n",
    "model.add(Activation('relu'))\n",
    "model.add(Dropout(0.5))\n",
    "model.add(Dense(10))\n",
    "model.add(Activation('softmax'))"
   ]
  },
  {
   "cell_type": "code",
   "execution_count": 7,
   "metadata": {
    "collapsed": true
   },
   "outputs": [],
   "source": [
    "model.compile(loss='categorical_crossentropy',\n",
    "              optimizer='sgd',\n",
    "              metrics=['accuracy'])"
   ]
  },
  {
   "cell_type": "code",
   "execution_count": 8,
   "metadata": {
    "collapsed": false
   },
   "outputs": [
    {
     "data": {
      "image/svg+xml": [
       "<svg height=\"1286pt\" viewBox=\"0.00 0.00 219.61 1286.00\" width=\"220pt\" xmlns=\"http://www.w3.org/2000/svg\" xmlns:xlink=\"http://www.w3.org/1999/xlink\">\n",
       "<g class=\"graph\" id=\"graph0\" transform=\"scale(1 1) rotate(0) translate(4 1282)\">\n",
       "<title>G</title>\n",
       "<polygon fill=\"white\" points=\"-4,4 -4,-1282 215.61,-1282 215.61,4 -4,4\" stroke=\"none\"/>\n",
       "<!-- 4558789376 -->\n",
       "<g class=\"node\" id=\"node1\"><title>4558789376</title>\n",
       "<polygon fill=\"none\" points=\"17.5171,-1241.5 17.5171,-1277.5 194.093,-1277.5 194.093,-1241.5 17.5171,-1241.5\" stroke=\"black\"/>\n",
       "<text font-family=\"Times,serif\" font-size=\"14.00\" text-anchor=\"middle\" x=\"105.805\" y=\"-1255.3\">conv2d_1_input: InputLayer</text>\n",
       "</g>\n",
       "<!-- 4558789432 -->\n",
       "<g class=\"node\" id=\"node2\"><title>4558789432</title>\n",
       "<polygon fill=\"none\" points=\"42.7793,-1168.5 42.7793,-1204.5 168.831,-1204.5 168.831,-1168.5 42.7793,-1168.5\" stroke=\"black\"/>\n",
       "<text font-family=\"Times,serif\" font-size=\"14.00\" text-anchor=\"middle\" x=\"105.805\" y=\"-1182.3\">conv2d_1: Conv2D</text>\n",
       "</g>\n",
       "<!-- 4558789376&#45;&gt;4558789432 -->\n",
       "<g class=\"edge\" id=\"edge1\"><title>4558789376-&gt;4558789432</title>\n",
       "<path d=\"M105.805,-1241.31C105.805,-1233.29 105.805,-1223.55 105.805,-1214.57\" fill=\"none\" stroke=\"black\"/>\n",
       "<polygon fill=\"black\" points=\"109.305,-1214.53 105.805,-1204.53 102.305,-1214.53 109.305,-1214.53\" stroke=\"black\"/>\n",
       "</g>\n",
       "<!-- 4558789320 -->\n",
       "<g class=\"node\" id=\"node3\"><title>4558789320</title>\n",
       "<polygon fill=\"none\" points=\"30.3447,-1095.5 30.3447,-1131.5 181.266,-1131.5 181.266,-1095.5 30.3447,-1095.5\" stroke=\"black\"/>\n",
       "<text font-family=\"Times,serif\" font-size=\"14.00\" text-anchor=\"middle\" x=\"105.805\" y=\"-1109.3\">activation_1: Activation</text>\n",
       "</g>\n",
       "<!-- 4558789432&#45;&gt;4558789320 -->\n",
       "<g class=\"edge\" id=\"edge2\"><title>4558789432-&gt;4558789320</title>\n",
       "<path d=\"M105.805,-1168.31C105.805,-1160.29 105.805,-1150.55 105.805,-1141.57\" fill=\"none\" stroke=\"black\"/>\n",
       "<polygon fill=\"black\" points=\"109.305,-1141.53 105.805,-1131.53 102.305,-1141.53 109.305,-1141.53\" stroke=\"black\"/>\n",
       "</g>\n",
       "<!-- 4558790552 -->\n",
       "<g class=\"node\" id=\"node4\"><title>4558790552</title>\n",
       "<polygon fill=\"none\" points=\"42.7793,-1022.5 42.7793,-1058.5 168.831,-1058.5 168.831,-1022.5 42.7793,-1022.5\" stroke=\"black\"/>\n",
       "<text font-family=\"Times,serif\" font-size=\"14.00\" text-anchor=\"middle\" x=\"105.805\" y=\"-1036.3\">conv2d_2: Conv2D</text>\n",
       "</g>\n",
       "<!-- 4558789320&#45;&gt;4558790552 -->\n",
       "<g class=\"edge\" id=\"edge3\"><title>4558789320-&gt;4558790552</title>\n",
       "<path d=\"M105.805,-1095.31C105.805,-1087.29 105.805,-1077.55 105.805,-1068.57\" fill=\"none\" stroke=\"black\"/>\n",
       "<polygon fill=\"black\" points=\"109.305,-1068.53 105.805,-1058.53 102.305,-1068.53 109.305,-1068.53\" stroke=\"black\"/>\n",
       "</g>\n",
       "<!-- 4558790608 -->\n",
       "<g class=\"node\" id=\"node5\"><title>4558790608</title>\n",
       "<polygon fill=\"none\" points=\"0,-949.5 0,-985.5 211.61,-985.5 211.61,-949.5 0,-949.5\" stroke=\"black\"/>\n",
       "<text font-family=\"Times,serif\" font-size=\"14.00\" text-anchor=\"middle\" x=\"105.805\" y=\"-963.3\">max_pooling2d_1: MaxPooling2D</text>\n",
       "</g>\n",
       "<!-- 4558790552&#45;&gt;4558790608 -->\n",
       "<g class=\"edge\" id=\"edge4\"><title>4558790552-&gt;4558790608</title>\n",
       "<path d=\"M105.805,-1022.31C105.805,-1014.29 105.805,-1004.55 105.805,-995.569\" fill=\"none\" stroke=\"black\"/>\n",
       "<polygon fill=\"black\" points=\"109.305,-995.529 105.805,-985.529 102.305,-995.529 109.305,-995.529\" stroke=\"black\"/>\n",
       "</g>\n",
       "<!-- 4558790440 -->\n",
       "<g class=\"node\" id=\"node6\"><title>4558790440</title>\n",
       "<polygon fill=\"none\" points=\"42.0034,-876.5 42.0034,-912.5 169.607,-912.5 169.607,-876.5 42.0034,-876.5\" stroke=\"black\"/>\n",
       "<text font-family=\"Times,serif\" font-size=\"14.00\" text-anchor=\"middle\" x=\"105.805\" y=\"-890.3\">dropout_1: Dropout</text>\n",
       "</g>\n",
       "<!-- 4558790608&#45;&gt;4558790440 -->\n",
       "<g class=\"edge\" id=\"edge5\"><title>4558790608-&gt;4558790440</title>\n",
       "<path d=\"M105.805,-949.313C105.805,-941.289 105.805,-931.547 105.805,-922.569\" fill=\"none\" stroke=\"black\"/>\n",
       "<polygon fill=\"black\" points=\"109.305,-922.529 105.805,-912.529 102.305,-922.529 109.305,-922.529\" stroke=\"black\"/>\n",
       "</g>\n",
       "<!-- 4775094536 -->\n",
       "<g class=\"node\" id=\"node7\"><title>4775094536</title>\n",
       "<polygon fill=\"none\" points=\"42.7793,-803.5 42.7793,-839.5 168.831,-839.5 168.831,-803.5 42.7793,-803.5\" stroke=\"black\"/>\n",
       "<text font-family=\"Times,serif\" font-size=\"14.00\" text-anchor=\"middle\" x=\"105.805\" y=\"-817.3\">conv2d_3: Conv2D</text>\n",
       "</g>\n",
       "<!-- 4558790440&#45;&gt;4775094536 -->\n",
       "<g class=\"edge\" id=\"edge6\"><title>4558790440-&gt;4775094536</title>\n",
       "<path d=\"M105.805,-876.313C105.805,-868.289 105.805,-858.547 105.805,-849.569\" fill=\"none\" stroke=\"black\"/>\n",
       "<polygon fill=\"black\" points=\"109.305,-849.529 105.805,-839.529 102.305,-849.529 109.305,-849.529\" stroke=\"black\"/>\n",
       "</g>\n",
       "<!-- 4558807952 -->\n",
       "<g class=\"node\" id=\"node8\"><title>4558807952</title>\n",
       "<polygon fill=\"none\" points=\"30.3447,-730.5 30.3447,-766.5 181.266,-766.5 181.266,-730.5 30.3447,-730.5\" stroke=\"black\"/>\n",
       "<text font-family=\"Times,serif\" font-size=\"14.00\" text-anchor=\"middle\" x=\"105.805\" y=\"-744.3\">activation_2: Activation</text>\n",
       "</g>\n",
       "<!-- 4775094536&#45;&gt;4558807952 -->\n",
       "<g class=\"edge\" id=\"edge7\"><title>4775094536-&gt;4558807952</title>\n",
       "<path d=\"M105.805,-803.313C105.805,-795.289 105.805,-785.547 105.805,-776.569\" fill=\"none\" stroke=\"black\"/>\n",
       "<polygon fill=\"black\" points=\"109.305,-776.529 105.805,-766.529 102.305,-776.529 109.305,-776.529\" stroke=\"black\"/>\n",
       "</g>\n",
       "<!-- 4559140736 -->\n",
       "<g class=\"node\" id=\"node9\"><title>4559140736</title>\n",
       "<polygon fill=\"none\" points=\"42.7793,-657.5 42.7793,-693.5 168.831,-693.5 168.831,-657.5 42.7793,-657.5\" stroke=\"black\"/>\n",
       "<text font-family=\"Times,serif\" font-size=\"14.00\" text-anchor=\"middle\" x=\"105.805\" y=\"-671.3\">conv2d_4: Conv2D</text>\n",
       "</g>\n",
       "<!-- 4558807952&#45;&gt;4559140736 -->\n",
       "<g class=\"edge\" id=\"edge8\"><title>4558807952-&gt;4559140736</title>\n",
       "<path d=\"M105.805,-730.313C105.805,-722.289 105.805,-712.547 105.805,-703.569\" fill=\"none\" stroke=\"black\"/>\n",
       "<polygon fill=\"black\" points=\"109.305,-703.529 105.805,-693.529 102.305,-703.529 109.305,-703.529\" stroke=\"black\"/>\n",
       "</g>\n",
       "<!-- 4775222968 -->\n",
       "<g class=\"node\" id=\"node10\"><title>4775222968</title>\n",
       "<polygon fill=\"none\" points=\"30.3447,-584.5 30.3447,-620.5 181.266,-620.5 181.266,-584.5 30.3447,-584.5\" stroke=\"black\"/>\n",
       "<text font-family=\"Times,serif\" font-size=\"14.00\" text-anchor=\"middle\" x=\"105.805\" y=\"-598.3\">activation_3: Activation</text>\n",
       "</g>\n",
       "<!-- 4559140736&#45;&gt;4775222968 -->\n",
       "<g class=\"edge\" id=\"edge9\"><title>4559140736-&gt;4775222968</title>\n",
       "<path d=\"M105.805,-657.313C105.805,-649.289 105.805,-639.547 105.805,-630.569\" fill=\"none\" stroke=\"black\"/>\n",
       "<polygon fill=\"black\" points=\"109.305,-630.529 105.805,-620.529 102.305,-630.529 109.305,-630.529\" stroke=\"black\"/>\n",
       "</g>\n",
       "<!-- 4810204888 -->\n",
       "<g class=\"node\" id=\"node11\"><title>4810204888</title>\n",
       "<polygon fill=\"none\" points=\"0,-511.5 0,-547.5 211.61,-547.5 211.61,-511.5 0,-511.5\" stroke=\"black\"/>\n",
       "<text font-family=\"Times,serif\" font-size=\"14.00\" text-anchor=\"middle\" x=\"105.805\" y=\"-525.3\">max_pooling2d_2: MaxPooling2D</text>\n",
       "</g>\n",
       "<!-- 4775222968&#45;&gt;4810204888 -->\n",
       "<g class=\"edge\" id=\"edge10\"><title>4775222968-&gt;4810204888</title>\n",
       "<path d=\"M105.805,-584.313C105.805,-576.289 105.805,-566.547 105.805,-557.569\" fill=\"none\" stroke=\"black\"/>\n",
       "<polygon fill=\"black\" points=\"109.305,-557.529 105.805,-547.529 102.305,-557.529 109.305,-557.529\" stroke=\"black\"/>\n",
       "</g>\n",
       "<!-- 4810206848 -->\n",
       "<g class=\"node\" id=\"node12\"><title>4810206848</title>\n",
       "<polygon fill=\"none\" points=\"42.0034,-438.5 42.0034,-474.5 169.607,-474.5 169.607,-438.5 42.0034,-438.5\" stroke=\"black\"/>\n",
       "<text font-family=\"Times,serif\" font-size=\"14.00\" text-anchor=\"middle\" x=\"105.805\" y=\"-452.3\">dropout_2: Dropout</text>\n",
       "</g>\n",
       "<!-- 4810204888&#45;&gt;4810206848 -->\n",
       "<g class=\"edge\" id=\"edge11\"><title>4810204888-&gt;4810206848</title>\n",
       "<path d=\"M105.805,-511.313C105.805,-503.289 105.805,-493.547 105.805,-484.569\" fill=\"none\" stroke=\"black\"/>\n",
       "<polygon fill=\"black\" points=\"109.305,-484.529 105.805,-474.529 102.305,-484.529 109.305,-484.529\" stroke=\"black\"/>\n",
       "</g>\n",
       "<!-- 4560132360 -->\n",
       "<g class=\"node\" id=\"node13\"><title>4560132360</title>\n",
       "<polygon fill=\"none\" points=\"50.1724,-365.5 50.1724,-401.5 161.438,-401.5 161.438,-365.5 50.1724,-365.5\" stroke=\"black\"/>\n",
       "<text font-family=\"Times,serif\" font-size=\"14.00\" text-anchor=\"middle\" x=\"105.805\" y=\"-379.3\">flatten_1: Flatten</text>\n",
       "</g>\n",
       "<!-- 4810206848&#45;&gt;4560132360 -->\n",
       "<g class=\"edge\" id=\"edge12\"><title>4810206848-&gt;4560132360</title>\n",
       "<path d=\"M105.805,-438.313C105.805,-430.289 105.805,-420.547 105.805,-411.569\" fill=\"none\" stroke=\"black\"/>\n",
       "<polygon fill=\"black\" points=\"109.305,-411.529 105.805,-401.529 102.305,-411.529 109.305,-411.529\" stroke=\"black\"/>\n",
       "</g>\n",
       "<!-- 4560132416 -->\n",
       "<g class=\"node\" id=\"node14\"><title>4560132416</title>\n",
       "<polygon fill=\"none\" points=\"53.6792,-292.5 53.6792,-328.5 157.931,-328.5 157.931,-292.5 53.6792,-292.5\" stroke=\"black\"/>\n",
       "<text font-family=\"Times,serif\" font-size=\"14.00\" text-anchor=\"middle\" x=\"105.805\" y=\"-306.3\">dense_1: Dense</text>\n",
       "</g>\n",
       "<!-- 4560132360&#45;&gt;4560132416 -->\n",
       "<g class=\"edge\" id=\"edge13\"><title>4560132360-&gt;4560132416</title>\n",
       "<path d=\"M105.805,-365.313C105.805,-357.289 105.805,-347.547 105.805,-338.569\" fill=\"none\" stroke=\"black\"/>\n",
       "<polygon fill=\"black\" points=\"109.305,-338.529 105.805,-328.529 102.305,-338.529 109.305,-338.529\" stroke=\"black\"/>\n",
       "</g>\n",
       "<!-- 4560021656 -->\n",
       "<g class=\"node\" id=\"node15\"><title>4560021656</title>\n",
       "<polygon fill=\"none\" points=\"30.3447,-219.5 30.3447,-255.5 181.266,-255.5 181.266,-219.5 30.3447,-219.5\" stroke=\"black\"/>\n",
       "<text font-family=\"Times,serif\" font-size=\"14.00\" text-anchor=\"middle\" x=\"105.805\" y=\"-233.3\">activation_4: Activation</text>\n",
       "</g>\n",
       "<!-- 4560132416&#45;&gt;4560021656 -->\n",
       "<g class=\"edge\" id=\"edge14\"><title>4560132416-&gt;4560021656</title>\n",
       "<path d=\"M105.805,-292.313C105.805,-284.289 105.805,-274.547 105.805,-265.569\" fill=\"none\" stroke=\"black\"/>\n",
       "<polygon fill=\"black\" points=\"109.305,-265.529 105.805,-255.529 102.305,-265.529 109.305,-265.529\" stroke=\"black\"/>\n",
       "</g>\n",
       "<!-- 4560592344 -->\n",
       "<g class=\"node\" id=\"node16\"><title>4560592344</title>\n",
       "<polygon fill=\"none\" points=\"42.0034,-146.5 42.0034,-182.5 169.607,-182.5 169.607,-146.5 42.0034,-146.5\" stroke=\"black\"/>\n",
       "<text font-family=\"Times,serif\" font-size=\"14.00\" text-anchor=\"middle\" x=\"105.805\" y=\"-160.3\">dropout_3: Dropout</text>\n",
       "</g>\n",
       "<!-- 4560021656&#45;&gt;4560592344 -->\n",
       "<g class=\"edge\" id=\"edge15\"><title>4560021656-&gt;4560592344</title>\n",
       "<path d=\"M105.805,-219.313C105.805,-211.289 105.805,-201.547 105.805,-192.569\" fill=\"none\" stroke=\"black\"/>\n",
       "<polygon fill=\"black\" points=\"109.305,-192.529 105.805,-182.529 102.305,-192.529 109.305,-192.529\" stroke=\"black\"/>\n",
       "</g>\n",
       "<!-- 4560592232 -->\n",
       "<g class=\"node\" id=\"node17\"><title>4560592232</title>\n",
       "<polygon fill=\"none\" points=\"53.6792,-73.5 53.6792,-109.5 157.931,-109.5 157.931,-73.5 53.6792,-73.5\" stroke=\"black\"/>\n",
       "<text font-family=\"Times,serif\" font-size=\"14.00\" text-anchor=\"middle\" x=\"105.805\" y=\"-87.3\">dense_2: Dense</text>\n",
       "</g>\n",
       "<!-- 4560592344&#45;&gt;4560592232 -->\n",
       "<g class=\"edge\" id=\"edge16\"><title>4560592344-&gt;4560592232</title>\n",
       "<path d=\"M105.805,-146.313C105.805,-138.289 105.805,-128.547 105.805,-119.569\" fill=\"none\" stroke=\"black\"/>\n",
       "<polygon fill=\"black\" points=\"109.305,-119.529 105.805,-109.529 102.305,-119.529 109.305,-119.529\" stroke=\"black\"/>\n",
       "</g>\n",
       "<!-- 4560544824 -->\n",
       "<g class=\"node\" id=\"node18\"><title>4560544824</title>\n",
       "<polygon fill=\"none\" points=\"30.3447,-0.5 30.3447,-36.5 181.266,-36.5 181.266,-0.5 30.3447,-0.5\" stroke=\"black\"/>\n",
       "<text font-family=\"Times,serif\" font-size=\"14.00\" text-anchor=\"middle\" x=\"105.805\" y=\"-14.3\">activation_5: Activation</text>\n",
       "</g>\n",
       "<!-- 4560592232&#45;&gt;4560544824 -->\n",
       "<g class=\"edge\" id=\"edge17\"><title>4560592232-&gt;4560544824</title>\n",
       "<path d=\"M105.805,-73.3129C105.805,-65.2895 105.805,-55.5475 105.805,-46.5691\" fill=\"none\" stroke=\"black\"/>\n",
       "<polygon fill=\"black\" points=\"109.305,-46.5288 105.805,-36.5288 102.305,-46.5289 109.305,-46.5288\" stroke=\"black\"/>\n",
       "</g>\n",
       "</g>\n",
       "</svg>"
      ],
      "text/plain": [
       "<IPython.core.display.SVG object>"
      ]
     },
     "execution_count": 8,
     "metadata": {},
     "output_type": "execute_result"
    }
   ],
   "source": [
    "from IPython.display import SVG\n",
    "from keras.utils.vis_utils import model_to_dot\n",
    "\n",
    "SVG(model_to_dot(model).create(prog='dot', format='svg'))"
   ]
  },
  {
   "cell_type": "code",
   "execution_count": null,
   "metadata": {
    "collapsed": false
   },
   "outputs": [],
   "source": [
    "model.fit(x_train, y_train, epochs=5, batch_size=32)"
   ]
  },
  {
   "cell_type": "code",
   "execution_count": null,
   "metadata": {
    "collapsed": false
   },
   "outputs": [],
   "source": [
    "x_train.shape"
   ]
  },
  {
   "cell_type": "code",
   "execution_count": null,
   "metadata": {
    "collapsed": false
   },
   "outputs": [],
   "source": [
    "y_train.shape\n",
    "from keras.utils.vis_utils"
   ]
  },
  {
   "cell_type": "code",
   "execution_count": null,
   "metadata": {
    "collapsed": true
   },
   "outputs": [],
   "source": [
    "from IPython.display import SVG\n",
    "from keras.utils.visualize_util import model_to_dot\n",
    "\n",
    "SVG(model_to_dot(model).create(prog='dot', format='svg'))"
   ]
  }
 ],
 "metadata": {
  "kernelspec": {
   "display_name": "Python 3",
   "language": "python",
   "name": "python3"
  },
  "language_info": {
   "codemirror_mode": {
    "name": "ipython",
    "version": 3
   },
   "file_extension": ".py",
   "mimetype": "text/x-python",
   "name": "python",
   "nbconvert_exporter": "python",
   "pygments_lexer": "ipython3",
   "version": "3.6.0"
  }
 },
 "nbformat": 4,
 "nbformat_minor": 2
}
